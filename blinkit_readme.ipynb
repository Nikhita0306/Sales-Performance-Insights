{
 "cells": [
  {
   "cell_type": "markdown",
   "id": "2ce82706",
   "metadata": {},
   "source": [
    "# Workflow\n",
    "## 1. Requirements gathering\n",
    "### Total Sales\n",
    "### Avg Sales\n",
    "### #Items\n",
    "### Avg Rating\n",
    "## 1.1. Business requirements\n",
    "### Total sales by fat content\n",
    "### Total sales by item type\n",
    "### Fat content by outlet for total sales\n",
    "### Total sales by outlet establishment\n",
    "### Sales by outlet size\n",
    "### Sales by outlet location\n",
    "### All metrics by outlet type\n",
    "## 2. Getting to know the data\n",
    "## 3. Data connection\n",
    "## 4. Data cleaning\n",
    "## 5. Data modelling\n",
    "## 6. Data Processing\n",
    "## 7. DAX Cal.\n",
    "## 8. Dashboard Layout\n",
    "## 9. Charts formation\n",
    "## 10. Dashboard Development\n",
    "## 11. Final layout"
   ]
  }
 ],
 "metadata": {
  "kernelspec": {
   "display_name": "Python 3 (ipykernel)",
   "language": "python",
   "name": "python3"
  },
  "language_info": {
   "codemirror_mode": {
    "name": "ipython",
    "version": 3
   },
   "file_extension": ".py",
   "mimetype": "text/x-python",
   "name": "python",
   "nbconvert_exporter": "python",
   "pygments_lexer": "ipython3",
   "version": "3.11.4"
  }
 },
 "nbformat": 4,
 "nbformat_minor": 5
}
